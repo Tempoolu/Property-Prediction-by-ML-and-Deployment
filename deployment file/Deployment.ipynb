{
 "cells": [
  {
   "cell_type": "code",
   "execution_count": 87,
   "id": "557b4f38",
   "metadata": {},
   "outputs": [],
   "source": [
    "import datetime\n",
    "import numpy as np\n",
    "import pandas as pd\n",
    "from sklearn.model_selection import train_test_split\n",
    "from sklearn.linear_model import LinearRegression\n",
    "import joblib\n",
    "\n",
    "import azureml.core\n",
    "from azureml.core import Workspace\n",
    "from azureml.core.model import Model\n",
    "from azureml.core import Experiment\n",
    "from azureml.core.webservice import Webservice\n",
    "from azureml.core.image import ContainerImage\n",
    "from azureml.core.webservice import AciWebservice\n",
    "from azureml.core.conda_dependencies import CondaDependencies"
   ]
  },
  {
   "cell_type": "code",
   "execution_count": 88,
   "id": "e6950c23",
   "metadata": {},
   "outputs": [
    {
     "name": "stdout",
     "output_type": "stream",
     "text": [
      "1.38.0\n"
     ]
    }
   ],
   "source": [
    "print(azureml.core.VERSION)"
   ]
  },
  {
   "cell_type": "code",
   "execution_count": 89,
   "id": "6f7f7eb9",
   "metadata": {},
   "outputs": [
    {
     "name": "stderr",
     "output_type": "stream",
     "text": [
      "UserWarning: The resource group doesn't exist or was not provided. AzureML SDK is creating a resource group=ml in location=southeastasia using subscription=4dd39263-9f5d-4297-abe2-3bfd4428480b.\n"
     ]
    },
    {
     "name": "stdout",
     "output_type": "stream",
     "text": [
      "Deploying StorageAccount with name newpredistorageac79e5379.\n",
      "Deploying KeyVault with name newpredikeyvault8394cb8c.\n",
      "Deploying AppInsights with name newprediinsightsc26dc20e.\n",
      "Deployed AppInsights with name newprediinsightsc26dc20e. Took 4.08 seconds.\n",
      "Deployed KeyVault with name newpredikeyvault8394cb8c. Took 17.9 seconds.\n",
      "Deploying Workspace with name new_predict.\n",
      "Deployed StorageAccount with name newpredistorageac79e5379. Took 30.27 seconds.\n",
      "Deployed Workspace with name new_predict. Took 35.87 seconds.\n"
     ]
    }
   ],
   "source": [
    "AZ_SUBSCRIPTION_ID='4dd39263-9f5d-4297-abe2-3bfd4428480b'\n",
    "ws = Workspace.create(name='new_predict',\n",
    "                      subscription_id=AZ_SUBSCRIPTION_ID, \n",
    "                      resource_group='ml',\n",
    "                      create_resource_group=True,\n",
    "                      location='southeastasia'\n",
    "                     )"
   ]
  },
  {
   "cell_type": "code",
   "execution_count": 90,
   "id": "9e8cf31d",
   "metadata": {},
   "outputs": [
    {
     "data": {
      "text/plain": [
       "{'id': '/subscriptions/4dd39263-9f5d-4297-abe2-3bfd4428480b/resourceGroups/ml/providers/Microsoft.MachineLearningServices/workspaces/new_predict',\n",
       " 'name': 'new_predict',\n",
       " 'identity': {'principal_id': 'e523d64d-0a9f-4791-842d-fc8b97b0b725',\n",
       "  'tenant_id': '5ba5ef5e-3109-4e77-85bd-cfeb0d347e82',\n",
       "  'type': 'SystemAssigned'},\n",
       " 'location': 'southeastasia',\n",
       " 'type': 'Microsoft.MachineLearningServices/workspaces',\n",
       " 'tags': {},\n",
       " 'sku': 'Basic',\n",
       " 'workspaceid': 'd551c561-26d3-4424-b172-a02c7578fe7f',\n",
       " 'sdkTelemetryAppInsightsKey': '0855780c-10d5-4461-ae3c-9b15eb18c90d',\n",
       " 'description': '',\n",
       " 'friendlyName': 'new_predict',\n",
       " 'creationTime': '2022-02-16T06:48:04.7144136+00:00',\n",
       " 'keyVault': '/subscriptions/4dd39263-9f5d-4297-abe2-3bfd4428480b/resourcegroups/ml/providers/microsoft.keyvault/vaults/newpredikeyvault8394cb8c',\n",
       " 'applicationInsights': '/subscriptions/4dd39263-9f5d-4297-abe2-3bfd4428480b/resourcegroups/ml/providers/microsoft.insights/components/newprediinsightsc26dc20e',\n",
       " 'storageAccount': '/subscriptions/4dd39263-9f5d-4297-abe2-3bfd4428480b/resourcegroups/ml/providers/microsoft.storage/storageaccounts/newpredistorageac79e5379',\n",
       " 'hbiWorkspace': False,\n",
       " 'allowPublicAccessWhenBehindVnet': False,\n",
       " 'provisioningState': 'Succeeded',\n",
       " 'discoveryUrl': 'https://southeastasia.api.azureml.ms/discovery',\n",
       " 'notebookInfo': {'fqdn': 'ml-newpredic-southeastasia-d551c561-26d3-4424-b172-a02c7578fe7f.southeastasia.notebooks.azure.net',\n",
       "  'resource_id': '5098ab31e79b416ead4e939ac9ed0a39'}}"
      ]
     },
     "execution_count": 90,
     "metadata": {},
     "output_type": "execute_result"
    }
   ],
   "source": [
    "ws.write_config()\n",
    "ws.get_details()"
   ]
  },
  {
   "cell_type": "code",
   "execution_count": 91,
   "id": "37d5cc9b",
   "metadata": {},
   "outputs": [],
   "source": [
    "exp = Experiment(workspace=ws, name='newxp')\n",
    "run = exp.start_logging()                   \n",
    "run.log(\"Experiment start time\", str(datetime.datetime.now()))"
   ]
  },
  {
   "cell_type": "code",
   "execution_count": 92,
   "id": "c157906e",
   "metadata": {},
   "outputs": [],
   "source": [
    "train_old_project = pd.read_csv('land_transaction_data.csv',header=0, index_col=None)\n",
    "x_train = train_old_project[[\"land_txn_price\"]]\n",
    "y_train = train_old_project[\"openning_price\"]\n",
    "linReg = LinearRegression()\n",
    "linReg_model = linReg.fit(x_train, y_train)"
   ]
  },
  {
   "cell_type": "code",
   "execution_count": 93,
   "id": "28182cb1",
   "metadata": {},
   "outputs": [
    {
     "data": {
      "text/plain": [
       "['predict_new_model.pkl']"
      ]
     },
     "execution_count": 93,
     "metadata": {},
     "output_type": "execute_result"
    }
   ],
   "source": [
    "filename = \"predict_new_model.pkl\"\n",
    "joblib.dump(linReg_model, filename)"
   ]
  },
  {
   "cell_type": "code",
   "execution_count": 94,
   "id": "820f9deb",
   "metadata": {},
   "outputs": [],
   "source": [
    "run.log(\"Experiment end time\", str(datetime.datetime.now()))\n",
    "run.complete()"
   ]
  },
  {
   "cell_type": "code",
   "execution_count": 81,
   "id": "e020f0d4",
   "metadata": {},
   "outputs": [
    {
     "name": "stdout",
     "output_type": "stream",
     "text": [
      "https://ml.azure.com/runs/78eb2109-4d30-4ec4-bb97-d1bb2bf4125f?wsid=/subscriptions/4dd39263-9f5d-4297-abe2-3bfd4428480b/resourcegroups/ml/workspaces/new_predict&tid=5ba5ef5e-3109-4e77-85bd-cfeb0d347e82\n"
     ]
    }
   ],
   "source": [
    "print(run.get_portal_url())"
   ]
  },
  {
   "cell_type": "code",
   "execution_count": 95,
   "id": "21566c1f",
   "metadata": {},
   "outputs": [
    {
     "name": "stdout",
     "output_type": "stream",
     "text": [
      "Registering model predict_new_model\n"
     ]
    }
   ],
   "source": [
    "model = Model.register(model_path = \"predict_new_model.pkl\",\n",
    "                       model_name = \"predict_new_model\",\n",
    "                       tags = {\"key\": \"1\"},\n",
    "                       description = \"Newly launched project price prediction\",\n",
    "                       workspace = ws)"
   ]
  },
  {
   "cell_type": "code",
   "execution_count": 96,
   "id": "ee422bc4",
   "metadata": {},
   "outputs": [],
   "source": [
    "aciconfig = AciWebservice.deploy_configuration(cpu_cores=1, \n",
    "                                               memory_gb=1, \n",
    "                                               tags={\"data\": \"Price\",  \"method\" : \"sklearn\"}, \n",
    "                                               description='Predict new project price')"
   ]
  },
  {
   "cell_type": "code",
   "execution_count": 83,
   "id": "ab9e96f8",
   "metadata": {},
   "outputs": [
    {
     "name": "stdout",
     "output_type": "stream",
     "text": [
      "# Conda environment specification. The dependencies defined in this file will\n",
      "\n",
      "# be automatically provisioned for runs with userManagedDependencies=False.\n",
      "\n",
      "\n",
      "# Details about the Conda environment file format:\n",
      "\n",
      "# https://conda.io/docs/user-guide/tasks/manage-environments.html#create-env-file-manually\n",
      "\n",
      "\n",
      "name: project_environment\n",
      "dependencies:\n",
      "  # The python interpreter version.\n",
      "\n",
      "  # Currently Azure ML only supports 3.5.2 and later.\n",
      "\n",
      "- python=3.6.2\n",
      "\n",
      "- pip:\n",
      "    # Required packages for AzureML execution, history, and data preparation.\n",
      "\n",
      "  - azureml-defaults\n",
      "\n",
      "- scikit-learn\n",
      "channels:\n",
      "- anaconda\n",
      "- conda-forge\n",
      "\n"
     ]
    }
   ],
   "source": [
    "salenv = CondaDependencies()\n",
    "salenv.add_conda_package(\"scikit-learn\")\n",
    "\n",
    "with open(\"salenv.yml\",\"w\") as f:\n",
    "    f.write(salenv.serialize_to_string())\n",
    "with open(\"salenv.yml\",\"r\") as f:\n",
    "    print(f.read())"
   ]
  },
  {
   "cell_type": "code",
   "execution_count": 97,
   "id": "40bed856",
   "metadata": {},
   "outputs": [
    {
     "name": "stdout",
     "output_type": "stream",
     "text": [
      "Overwriting score.py\n"
     ]
    }
   ],
   "source": [
    "%%writefile score.py\n",
    "import json\n",
    "import numpy as np\n",
    "import os\n",
    "import pickle\n",
    "import joblib\n",
    "from sklearn.linear_model import LogisticRegression\n",
    "\n",
    "from azureml.core.model import Model\n",
    "\n",
    "def init():\n",
    "    global model\n",
    "    # retrieve the path to the model file using the model name\n",
    "    model_path = Model.get_model_path('predict_new_model')\n",
    "    model = joblib.load(model_path)\n",
    "\n",
    "def run(raw_data):\n",
    "    data = json.loads(raw_data)['num']\n",
    "    y_hat = model.predict(data)\n",
    "    return json.dumps(y_hat)"
   ]
  },
  {
   "cell_type": "code",
   "execution_count": 98,
   "id": "e3ebef01",
   "metadata": {},
   "outputs": [
    {
     "name": "stdout",
     "output_type": "stream",
     "text": [
      "Wall time: 995 µs\n"
     ]
    },
    {
     "name": "stderr",
     "output_type": "stream",
     "text": [
      "<timed exec>:1: DeprecationWarning: ContainerImage class has been deprecated and will be removed in a future release. Please migrate to using Environments. https://docs.microsoft.com/en-us/azure/machine-learning/how-to-use-environments\n"
     ]
    }
   ],
   "source": [
    "%%time\n",
    "image_config = ContainerImage.image_configuration(execution_script=\"score.py\", \n",
    "                                                  runtime=\"python\", \n",
    "                                                  conda_file=\"salenv.yml\")"
   ]
  },
  {
   "cell_type": "code",
   "execution_count": 99,
   "id": "3c4293d2",
   "metadata": {},
   "outputs": [
    {
     "name": "stderr",
     "output_type": "stream",
     "text": [
      "<ipython-input-99-329dc489caab>:1: DeprecationWarning: deploy_from_model has been deprecated and will be removed in a future release. Please migrate to using Environments. https://docs.microsoft.com/en-us/azure/machine-learning/how-to-use-environments\n",
      "  service = Webservice.deploy_from_model(workspace=ws,\n"
     ]
    },
    {
     "name": "stdout",
     "output_type": "stream",
     "text": [
      "Creating image\n"
     ]
    },
    {
     "name": "stderr",
     "output_type": "stream",
     "text": [
      "Received bad response from Model Management Service:\n",
      "Response Code: 404\n",
      "Headers: {'Date': 'Wed, 16 Feb 2022 06:56:55 GMT', 'Content-Type': 'application/json', 'Transfer-Encoding': 'chunked', 'Connection': 'keep-alive', 'Vary': 'Accept-Encoding', 'x-ms-client-request-id': '04346231-879f-49d1-b952-9802c7fef430', 'x-ms-client-session-id': '2610ba9f-5739-4573-b64b-7145928094f0', 'api-supported-versions': '1.0, 2018-03-01-preview, 2018-11-19', 'Strict-Transport-Security': 'max-age=15724800; includeSubDomains; preload', 'X-Content-Type-Options': 'nosniff', 'x-request-time': '0.045', 'Content-Encoding': 'gzip'}\n",
      "Content: b'{\"code\":\"NotFound\",\"statusCode\":404,\"message\":\"The specified resource was not found.\",\"details\":[{\"code\":\"OperationNotFound\",\"message\":\"There is no operation with id 1eb621bb-5651-4e8b-a26e-f0ad29e22949\"}],\"correlation\":{\"RequestId\":\"04346231-879f-49d1-b952-9802c7fef430\"}}'\n",
      "\n"
     ]
    },
    {
     "ename": "WebserviceException",
     "evalue": "WebserviceException:\n\tMessage: Received bad response from Model Management Service:\nResponse Code: 404\nHeaders: {'Date': 'Wed, 16 Feb 2022 06:56:55 GMT', 'Content-Type': 'application/json', 'Transfer-Encoding': 'chunked', 'Connection': 'keep-alive', 'Vary': 'Accept-Encoding', 'x-ms-client-request-id': '04346231-879f-49d1-b952-9802c7fef430', 'x-ms-client-session-id': '2610ba9f-5739-4573-b64b-7145928094f0', 'api-supported-versions': '1.0, 2018-03-01-preview, 2018-11-19', 'Strict-Transport-Security': 'max-age=15724800; includeSubDomains; preload', 'X-Content-Type-Options': 'nosniff', 'x-request-time': '0.045', 'Content-Encoding': 'gzip'}\nContent: b'{\"code\":\"NotFound\",\"statusCode\":404,\"message\":\"The specified resource was not found.\",\"details\":[{\"code\":\"OperationNotFound\",\"message\":\"There is no operation with id 1eb621bb-5651-4e8b-a26e-f0ad29e22949\"}],\"correlation\":{\"RequestId\":\"04346231-879f-49d1-b952-9802c7fef430\"}}'\n\tInnerException None\n\tErrorResponse \n{\n    \"error\": {\n        \"message\": \"Received bad response from Model Management Service:\\nResponse Code: 404\\nHeaders: {'Date': 'Wed, 16 Feb 2022 06:56:55 GMT', 'Content-Type': 'application/json', 'Transfer-Encoding': 'chunked', 'Connection': 'keep-alive', 'Vary': 'Accept-Encoding', 'x-ms-client-request-id': '04346231-879f-49d1-b952-9802c7fef430', 'x-ms-client-session-id': '2610ba9f-5739-4573-b64b-7145928094f0', 'api-supported-versions': '1.0, 2018-03-01-preview, 2018-11-19', 'Strict-Transport-Security': 'max-age=15724800; includeSubDomains; preload', 'X-Content-Type-Options': 'nosniff', 'x-request-time': '0.045', 'Content-Encoding': 'gzip'}\\nContent: b'{\\\"code\\\":\\\"NotFound\\\",\\\"statusCode\\\":404,\\\"message\\\":\\\"The specified resource was not found.\\\",\\\"details\\\":[{\\\"code\\\":\\\"OperationNotFound\\\",\\\"message\\\":\\\"There is no operation with id 1eb621bb-5651-4e8b-a26e-f0ad29e22949\\\"}],\\\"correlation\\\":{\\\"RequestId\\\":\\\"04346231-879f-49d1-b952-9802c7fef430\\\"}}'\"\n    }\n}",
     "output_type": "error",
     "traceback": [
      "\u001b[1;31m---------------------------------------------------------------------------\u001b[0m",
      "\u001b[1;31mHTTPError\u001b[0m                                 Traceback (most recent call last)",
      "\u001b[1;32mD:\\anaconda3\\lib\\site-packages\\azureml\\core\\image\\image.py\u001b[0m in \u001b[0;36mcreate\u001b[1;34m(workspace, name, models, image_config)\u001b[0m\n\u001b[0;32m    385\u001b[0m         \u001b[1;32mtry\u001b[0m\u001b[1;33m:\u001b[0m\u001b[1;33m\u001b[0m\u001b[1;33m\u001b[0m\u001b[0m\n\u001b[1;32m--> 386\u001b[1;33m             \u001b[0moperation_resp\u001b[0m\u001b[1;33m.\u001b[0m\u001b[0mraise_for_status\u001b[0m\u001b[1;33m(\u001b[0m\u001b[1;33m)\u001b[0m\u001b[1;33m\u001b[0m\u001b[1;33m\u001b[0m\u001b[0m\n\u001b[0m\u001b[0;32m    387\u001b[0m         \u001b[1;32mexcept\u001b[0m \u001b[0mrequests\u001b[0m\u001b[1;33m.\u001b[0m\u001b[0mTimeout\u001b[0m\u001b[1;33m:\u001b[0m\u001b[1;33m\u001b[0m\u001b[1;33m\u001b[0m\u001b[0m\n",
      "\u001b[1;32mD:\\anaconda3\\lib\\site-packages\\requests\\models.py\u001b[0m in \u001b[0;36mraise_for_status\u001b[1;34m(self)\u001b[0m\n\u001b[0;32m    942\u001b[0m         \u001b[1;32mif\u001b[0m \u001b[0mhttp_error_msg\u001b[0m\u001b[1;33m:\u001b[0m\u001b[1;33m\u001b[0m\u001b[1;33m\u001b[0m\u001b[0m\n\u001b[1;32m--> 943\u001b[1;33m             \u001b[1;32mraise\u001b[0m \u001b[0mHTTPError\u001b[0m\u001b[1;33m(\u001b[0m\u001b[0mhttp_error_msg\u001b[0m\u001b[1;33m,\u001b[0m \u001b[0mresponse\u001b[0m\u001b[1;33m=\u001b[0m\u001b[0mself\u001b[0m\u001b[1;33m)\u001b[0m\u001b[1;33m\u001b[0m\u001b[1;33m\u001b[0m\u001b[0m\n\u001b[0m\u001b[0;32m    944\u001b[0m \u001b[1;33m\u001b[0m\u001b[0m\n",
      "\u001b[1;31mHTTPError\u001b[0m: 404 Client Error: Not Found for url: https://southeastasia.modelmanagement.azureml.net/modelmanagement/v1.0/subscriptions/4dd39263-9f5d-4297-abe2-3bfd4428480b/resourceGroups/ml/providers/Microsoft.MachineLearningServices/workspaces/new_predict/operations/1eb621bb-5651-4e8b-a26e-f0ad29e22949",
      "\nDuring handling of the above exception, another exception occurred:\n",
      "\u001b[1;31mWebserviceException\u001b[0m                       Traceback (most recent call last)",
      "\u001b[1;32m<ipython-input-99-329dc489caab>\u001b[0m in \u001b[0;36m<module>\u001b[1;34m\u001b[0m\n\u001b[1;32m----> 1\u001b[1;33m service = Webservice.deploy_from_model(workspace=ws,\n\u001b[0m\u001b[0;32m      2\u001b[0m                                        \u001b[0mname\u001b[0m\u001b[1;33m=\u001b[0m\u001b[1;34m'predict-price-svc'\u001b[0m\u001b[1;33m,\u001b[0m\u001b[1;33m\u001b[0m\u001b[1;33m\u001b[0m\u001b[0m\n\u001b[0;32m      3\u001b[0m                                        \u001b[0mdeployment_config\u001b[0m\u001b[1;33m=\u001b[0m\u001b[0maciconfig\u001b[0m\u001b[1;33m,\u001b[0m\u001b[1;33m\u001b[0m\u001b[1;33m\u001b[0m\u001b[0m\n\u001b[0;32m      4\u001b[0m                                        \u001b[0mmodels\u001b[0m\u001b[1;33m=\u001b[0m\u001b[1;33m[\u001b[0m\u001b[0mmodel\u001b[0m\u001b[1;33m]\u001b[0m\u001b[1;33m,\u001b[0m\u001b[1;33m\u001b[0m\u001b[1;33m\u001b[0m\u001b[0m\n\u001b[0;32m      5\u001b[0m                                        image_config=image_config)\n",
      "\u001b[1;32mD:\\anaconda3\\lib\\site-packages\\azureml\\core\\webservice\\webservice.py\u001b[0m in \u001b[0;36mdeploy_from_model\u001b[1;34m(workspace, name, models, image_config, deployment_config, deployment_target, overwrite)\u001b[0m\n\u001b[0;32m    450\u001b[0m         \u001b[0mWebservice\u001b[0m\u001b[1;33m.\u001b[0m\u001b[0m_check_for_local_deployment\u001b[0m\u001b[1;33m(\u001b[0m\u001b[0mdeployment_config\u001b[0m\u001b[1;33m)\u001b[0m\u001b[1;33m\u001b[0m\u001b[1;33m\u001b[0m\u001b[0m\n\u001b[0;32m    451\u001b[0m \u001b[1;33m\u001b[0m\u001b[0m\n\u001b[1;32m--> 452\u001b[1;33m         \u001b[0mimage\u001b[0m \u001b[1;33m=\u001b[0m \u001b[0mImage\u001b[0m\u001b[1;33m.\u001b[0m\u001b[0mcreate\u001b[0m\u001b[1;33m(\u001b[0m\u001b[0mworkspace\u001b[0m\u001b[1;33m,\u001b[0m \u001b[0mname\u001b[0m\u001b[1;33m,\u001b[0m \u001b[0mmodels\u001b[0m\u001b[1;33m,\u001b[0m \u001b[0mimage_config\u001b[0m\u001b[1;33m)\u001b[0m\u001b[1;33m\u001b[0m\u001b[1;33m\u001b[0m\u001b[0m\n\u001b[0m\u001b[0;32m    453\u001b[0m         \u001b[0mimage\u001b[0m\u001b[1;33m.\u001b[0m\u001b[0mwait_for_creation\u001b[0m\u001b[1;33m(\u001b[0m\u001b[1;32mTrue\u001b[0m\u001b[1;33m)\u001b[0m\u001b[1;33m\u001b[0m\u001b[1;33m\u001b[0m\u001b[0m\n\u001b[0;32m    454\u001b[0m         \u001b[1;32mif\u001b[0m \u001b[0mimage\u001b[0m\u001b[1;33m.\u001b[0m\u001b[0mcreation_state\u001b[0m \u001b[1;33m!=\u001b[0m \u001b[1;34m'Succeeded'\u001b[0m\u001b[1;33m:\u001b[0m\u001b[1;33m\u001b[0m\u001b[1;33m\u001b[0m\u001b[0m\n",
      "\u001b[1;32mD:\\anaconda3\\lib\\site-packages\\azureml\\core\\image\\image.py\u001b[0m in \u001b[0;36mcreate\u001b[1;34m(workspace, name, models, image_config)\u001b[0m\n\u001b[0;32m    388\u001b[0m             \u001b[1;32mraise\u001b[0m \u001b[0mWebserviceException\u001b[0m\u001b[1;33m(\u001b[0m\u001b[1;34m'Error, request to {} timed out.'\u001b[0m\u001b[1;33m.\u001b[0m\u001b[0mformat\u001b[0m\u001b[1;33m(\u001b[0m\u001b[0moperation_url\u001b[0m\u001b[1;33m)\u001b[0m\u001b[1;33m,\u001b[0m \u001b[0mlogger\u001b[0m\u001b[1;33m=\u001b[0m\u001b[0mmodule_logger\u001b[0m\u001b[1;33m)\u001b[0m\u001b[1;33m\u001b[0m\u001b[1;33m\u001b[0m\u001b[0m\n\u001b[0;32m    389\u001b[0m         \u001b[1;32mexcept\u001b[0m \u001b[0mrequests\u001b[0m\u001b[1;33m.\u001b[0m\u001b[0mexceptions\u001b[0m\u001b[1;33m.\u001b[0m\u001b[0mHTTPError\u001b[0m\u001b[1;33m:\u001b[0m\u001b[1;33m\u001b[0m\u001b[1;33m\u001b[0m\u001b[0m\n\u001b[1;32m--> 390\u001b[1;33m             raise WebserviceException('Received bad response from Model Management Service:\\n'\n\u001b[0m\u001b[0;32m    391\u001b[0m                                       \u001b[1;34m'Response Code: {}\\n'\u001b[0m\u001b[1;33m\u001b[0m\u001b[1;33m\u001b[0m\u001b[0m\n\u001b[0;32m    392\u001b[0m                                       \u001b[1;34m'Headers: {}\\n'\u001b[0m\u001b[1;33m\u001b[0m\u001b[1;33m\u001b[0m\u001b[0m\n",
      "\u001b[1;31mWebserviceException\u001b[0m: WebserviceException:\n\tMessage: Received bad response from Model Management Service:\nResponse Code: 404\nHeaders: {'Date': 'Wed, 16 Feb 2022 06:56:55 GMT', 'Content-Type': 'application/json', 'Transfer-Encoding': 'chunked', 'Connection': 'keep-alive', 'Vary': 'Accept-Encoding', 'x-ms-client-request-id': '04346231-879f-49d1-b952-9802c7fef430', 'x-ms-client-session-id': '2610ba9f-5739-4573-b64b-7145928094f0', 'api-supported-versions': '1.0, 2018-03-01-preview, 2018-11-19', 'Strict-Transport-Security': 'max-age=15724800; includeSubDomains; preload', 'X-Content-Type-Options': 'nosniff', 'x-request-time': '0.045', 'Content-Encoding': 'gzip'}\nContent: b'{\"code\":\"NotFound\",\"statusCode\":404,\"message\":\"The specified resource was not found.\",\"details\":[{\"code\":\"OperationNotFound\",\"message\":\"There is no operation with id 1eb621bb-5651-4e8b-a26e-f0ad29e22949\"}],\"correlation\":{\"RequestId\":\"04346231-879f-49d1-b952-9802c7fef430\"}}'\n\tInnerException None\n\tErrorResponse \n{\n    \"error\": {\n        \"message\": \"Received bad response from Model Management Service:\\nResponse Code: 404\\nHeaders: {'Date': 'Wed, 16 Feb 2022 06:56:55 GMT', 'Content-Type': 'application/json', 'Transfer-Encoding': 'chunked', 'Connection': 'keep-alive', 'Vary': 'Accept-Encoding', 'x-ms-client-request-id': '04346231-879f-49d1-b952-9802c7fef430', 'x-ms-client-session-id': '2610ba9f-5739-4573-b64b-7145928094f0', 'api-supported-versions': '1.0, 2018-03-01-preview, 2018-11-19', 'Strict-Transport-Security': 'max-age=15724800; includeSubDomains; preload', 'X-Content-Type-Options': 'nosniff', 'x-request-time': '0.045', 'Content-Encoding': 'gzip'}\\nContent: b'{\\\"code\\\":\\\"NotFound\\\",\\\"statusCode\\\":404,\\\"message\\\":\\\"The specified resource was not found.\\\",\\\"details\\\":[{\\\"code\\\":\\\"OperationNotFound\\\",\\\"message\\\":\\\"There is no operation with id 1eb621bb-5651-4e8b-a26e-f0ad29e22949\\\"}],\\\"correlation\\\":{\\\"RequestId\\\":\\\"04346231-879f-49d1-b952-9802c7fef430\\\"}}'\"\n    }\n}"
     ]
    }
   ],
   "source": [
    "service = Webservice.deploy_from_model(workspace=ws,\n",
    "                                       name='predict-price-svc',\n",
    "                                       deployment_config=aciconfig,\n",
    "                                       models=[model],\n",
    "                                       image_config=image_config)\n",
    "\n",
    "service.wait_for_deployment(show_output=True)"
   ]
  },
  {
   "cell_type": "code",
   "execution_count": 63,
   "id": "32e03b54",
   "metadata": {},
   "outputs": [
    {
     "name": "stdout",
     "output_type": "stream",
     "text": [
      "{\"message\": \"Expects Content-Type to be application/json\"}\n"
     ]
    },
    {
     "name": "stderr",
     "output_type": "stream",
     "text": [
      "  % Total    % Received % Xferd  Average Speed   Time    Time     Time  Current\n",
      "                                 Dload  Upload   Total   Spent    Left  Speed\n",
      "\n",
      "  0     0    0     0    0     0      0      0 --:--:-- --:--:-- --:--:--     0\n",
      "100    73  100    58  100    15    331     85 --:--:-- --:--:-- --:--:--   421\n"
     ]
    }
   ],
   "source": [
    "!curl -X POST \\\n",
    "\t-H 'Content-Type':'application/json' \\\n",
    "\t-d '''{\"num\":600}''' \\\n",
    "\thttp://540e88e2-afeb-406c-b487-696b0cc1049d.southeastasia.azurecontainer.io/score"
   ]
  },
  {
   "cell_type": "code",
   "execution_count": 62,
   "id": "e32bafd8",
   "metadata": {},
   "outputs": [
    {
     "name": "stdout",
     "output_type": "stream",
     "text": [
      "http://540e88e2-afeb-406c-b487-696b0cc1049d.southeastasia.azurecontainer.io/score\n"
     ]
    }
   ],
   "source": [
    "print(service.scoring_uri)"
   ]
  },
  {
   "cell_type": "code",
   "execution_count": null,
   "id": "db0783eb",
   "metadata": {},
   "outputs": [],
   "source": [
    "dd = '''{\"num\":600}'''\n",
    "def run(raw_data):\n",
    "    data = json.loads(raw_data)['num']\n",
    "    print(type(data))\n",
    "    return json.dumps(data)\n",
    "\n",
    "run(dd)"
   ]
  },
  {
   "cell_type": "code",
   "execution_count": null,
   "id": "a677d5ec",
   "metadata": {},
   "outputs": [],
   "source": []
  }
 ],
 "metadata": {
  "kernelspec": {
   "display_name": "Python 3",
   "language": "python",
   "name": "python3"
  },
  "language_info": {
   "codemirror_mode": {
    "name": "ipython",
    "version": 3
   },
   "file_extension": ".py",
   "mimetype": "text/x-python",
   "name": "python",
   "nbconvert_exporter": "python",
   "pygments_lexer": "ipython3",
   "version": "3.8.8"
  }
 },
 "nbformat": 4,
 "nbformat_minor": 5
}
