{
 "cells": [
  {
   "cell_type": "markdown",
   "id": "b3fecc4e",
   "metadata": {},
   "source": [
    "# 1.  Train model by dataset"
   ]
  },
  {
   "cell_type": "code",
   "execution_count": 1,
   "id": "93ab1cbe",
   "metadata": {},
   "outputs": [
    {
     "name": "stdout",
     "output_type": "stream",
     "text": [
      "     index land_txn_date           proj_name  land_txn_price openning_date  \\\n",
      "108    108    2013-08-01         The Terrace             355    2017-01-01   \n",
      "110    110    2013-07-01       The Santorini             562    2017-01-01   \n",
      "73      73    2016-01-01  Seaside Residences             858    2017-04-01   \n",
      "\n",
      "     openning_price  \n",
      "108             784  \n",
      "110            1030  \n",
      "73             1764   \n",
      "\n"
     ]
    }
   ],
   "source": [
    "import pandas as pd\n",
    "import numpy as np\n",
    "import matplotlib.pyplot as plt\n",
    "from sklearn import linear_model\n",
    "from sklearn.model_selection import train_test_split\n",
    "from sklearn.linear_model import LinearRegression\n",
    "from sklearn.metrics import mean_squared_error, r2_score\n",
    "\n",
    "df = pd.read_csv('land_transaction_data.csv')\n",
    "df.rename(columns={df.columns[0]: \"index\"}, inplace=True)\n",
    "print(df.sample(3), \"\\n\")"
   ]
  },
  {
   "cell_type": "code",
   "execution_count": 2,
   "id": "71fe2f92",
   "metadata": {},
   "outputs": [],
   "source": [
    "# use land transaction price as feature, and property openning price as label\n",
    "\n",
    "x = df[[\"land_txn_price\"]]\n",
    "y = df[\"openning_price\"]"
   ]
  },
  {
   "cell_type": "code",
   "execution_count": 3,
   "id": "8a453637",
   "metadata": {},
   "outputs": [
    {
     "data": {
      "text/plain": [
       "(120, 1)"
      ]
     },
     "execution_count": 3,
     "metadata": {},
     "output_type": "execute_result"
    }
   ],
   "source": [
    "x.shape"
   ]
  },
  {
   "cell_type": "code",
   "execution_count": 4,
   "id": "d3a218fa",
   "metadata": {},
   "outputs": [
    {
     "name": "stdout",
     "output_type": "stream",
     "text": [
      "land_txn_price    2377\n",
      "dtype: int64\n",
      "land_txn_price    278\n",
      "dtype: int64\n",
      "3626\n",
      "742\n"
     ]
    }
   ],
   "source": [
    "#check all data is reasonable\n",
    "\n",
    "print(x.max())\n",
    "print(x.min())\n",
    "print(y.max())\n",
    "print(y.min())"
   ]
  },
  {
   "cell_type": "code",
   "execution_count": 5,
   "id": "cb2d3625",
   "metadata": {},
   "outputs": [
    {
     "data": {
      "text/plain": [
       "<matplotlib.collections.PathCollection at 0x264d34792b0>"
      ]
     },
     "execution_count": 5,
     "metadata": {},
     "output_type": "execute_result"
    },
    {
     "data": {
      "image/png": "[encoded data removed]",
      "text/plain": [
       "<Figure size 720x720 with 1 Axes>"
      ]
     },
     "metadata": {
      "needs_background": "light"
     },
     "output_type": "display_data"
    }
   ],
   "source": [
    "# find the relationship between feature and label\n",
    "\n",
    "fig, ax = plt.subplots(figsize=(10,10))\n",
    "ax.scatter(x, y)"
   ]
  },
  {
   "cell_type": "code",
   "execution_count": 6,
   "id": "0cdaf524",
   "metadata": {},
   "outputs": [],
   "source": [
    "# only 120 data to train the model, data size is not big enough, only use 10% for testing\n",
    "\n",
    "x_train, x_test, y_train, y_test = train_test_split(x, y, test_size=0.1, random_state = 42)  "
   ]
  },
  {
   "cell_type": "code",
   "execution_count": 7,
   "id": "afae15b7",
   "metadata": {},
   "outputs": [],
   "source": [
    "# there is obvious linear relationship between x and y, so use linear regression to train the model\n",
    "\n",
    "linReg = LinearRegression()\n",
    "linReg_model = linReg.fit(x_train, y_train)"
   ]
  },
  {
   "cell_type": "code",
   "execution_count": 8,
   "id": "bb73870b",
   "metadata": {},
   "outputs": [
    {
     "name": "stdout",
     "output_type": "stream",
     "text": [
      "0.8847207971091474\n"
     ]
    }
   ],
   "source": [
    "# view the r2 score (coefficient of determination), 0.88 means the model is reliable\n",
    "\n",
    "y_train_pred = linReg.predict(x_train)\n",
    "print(r2_score(y_train, y_train_pred))"
   ]
  },
  {
   "cell_type": "code",
   "execution_count": 9,
   "id": "9caff8c0",
   "metadata": {},
   "outputs": [
    {
     "name": "stdout",
     "output_type": "stream",
     "text": [
      "0.9313167868980607\n"
     ]
    }
   ],
   "source": [
    "# test the model by test dataset, r2 score reaches to 0.93\n",
    "\n",
    "y_test_pred = linReg.predict(x_test)\n",
    "print(r2_score(y_test, y_test_pred))"
   ]
  },
  {
   "cell_type": "code",
   "execution_count": 10,
   "id": "b64354cf",
   "metadata": {},
   "outputs": [
    {
     "name": "stdout",
     "output_type": "stream",
     "text": [
      "459.5043965429136\n",
      "[1.34358634]\n"
     ]
    }
   ],
   "source": [
    "print(linReg.intercept_)\n",
    "print(linReg.coef_)"
   ]
  },
  {
   "cell_type": "markdown",
   "id": "0ede5dfd",
   "metadata": {},
   "source": [
    "# 2.  Predict data by model"
   ]
  },
  {
   "cell_type": "code",
   "execution_count": 72,
   "id": "4119a698",
   "metadata": {},
   "outputs": [
    {
     "name": "stdout",
     "output_type": "stream",
     "text": [
      "  land_txn_date           proj_name  land_txn_price\n",
      "2    2021-12-01     Former La Ville            1540\n",
      "1    2021-12-01   Former High Point            2626\n",
      "4    2021-10-01  Slim Barracks Rise            1210 \n",
      "\n"
     ]
    }
   ],
   "source": [
    "df_new = pd.read_csv('new_proj_land_txn_data.csv')\n",
    "print(df_new.sample(3), \"\\n\")"
   ]
  },
  {
   "cell_type": "code",
   "execution_count": 73,
   "id": "a864f36f",
   "metadata": {},
   "outputs": [],
   "source": [
    "# add prediction data to new column\n",
    "df_new[\"predict_price\"] = 0\n",
    " \n",
    "df_new_land_price = df_new[\"land_txn_price\"]\n",
    "\n",
    "for i in range(df_new_land_price.size):\n",
    "    df_predict_price = linReg_model.predict([[df_new_land_price.iloc[i]]])\n",
    "    df_new.iloc[i, 3] = int(df_predict_price)\n",
    "    \n",
    "# save prediction data into\n",
    "df_new.to_csv('new_proj_land_txn_data.csv', index=False)"
   ]
  },
  {
   "cell_type": "code",
   "execution_count": 81,
   "id": "ebc6f1d3",
   "metadata": {},
   "outputs": [
    {
     "data": {
      "text/html": [
       "<div>\n",
       "<style scoped>\n",
       "    .dataframe tbody tr th:only-of-type {\n",
       "        vertical-align: middle;\n",
       "    }\n",
       "\n",
       "    .dataframe tbody tr th {\n",
       "        vertical-align: top;\n",
       "    }\n",
       "\n",
       "    .dataframe thead th {\n",
       "        text-align: right;\n",
       "    }\n",
       "</style>\n",
       "<table border=\"1\" class=\"dataframe\">\n",
       "  <thead>\n",
       "    <tr style=\"text-align: right;\">\n",
       "      <th></th>\n",
       "      <th>land_txn_date</th>\n",
       "      <th>proj_name</th>\n",
       "      <th>land_txn_price</th>\n",
       "      <th>predict_price</th>\n",
       "      <th>index</th>\n",
       "    </tr>\n",
       "  </thead>\n",
       "  <tbody>\n",
       "    <tr>\n",
       "      <th>0</th>\n",
       "      <td>2022-01-01</td>\n",
       "      <td>Gloria Mansions</td>\n",
       "      <td>1098</td>\n",
       "      <td>1939</td>\n",
       "      <td>3</td>\n",
       "    </tr>\n",
       "    <tr>\n",
       "      <th>1</th>\n",
       "      <td>2021-12-01</td>\n",
       "      <td>Former High Point</td>\n",
       "      <td>2626</td>\n",
       "      <td>3995</td>\n",
       "      <td>3</td>\n",
       "    </tr>\n",
       "    <tr>\n",
       "      <th>2</th>\n",
       "      <td>2021-12-01</td>\n",
       "      <td>Former La Ville</td>\n",
       "      <td>1540</td>\n",
       "      <td>2534</td>\n",
       "      <td>3</td>\n",
       "    </tr>\n",
       "    <tr>\n",
       "      <th>3</th>\n",
       "      <td>2021-10-01</td>\n",
       "      <td>Watten Estate Condominium</td>\n",
       "      <td>1723</td>\n",
       "      <td>2780</td>\n",
       "      <td>3</td>\n",
       "    </tr>\n",
       "    <tr>\n",
       "      <th>4</th>\n",
       "      <td>2021-10-01</td>\n",
       "      <td>Slim Barracks Rise</td>\n",
       "      <td>1210</td>\n",
       "      <td>2090</td>\n",
       "      <td>3</td>\n",
       "    </tr>\n",
       "    <tr>\n",
       "      <th>5</th>\n",
       "      <td>2021-10-01</td>\n",
       "      <td>Slim Barracks Rise</td>\n",
       "      <td>1246</td>\n",
       "      <td>2139</td>\n",
       "      <td>3</td>\n",
       "    </tr>\n",
       "    <tr>\n",
       "      <th>6</th>\n",
       "      <td>2021-09-01</td>\n",
       "      <td>Flynn Park</td>\n",
       "      <td>1318</td>\n",
       "      <td>2235</td>\n",
       "      <td>3</td>\n",
       "    </tr>\n",
       "    <tr>\n",
       "      <th>7</th>\n",
       "      <td>2021-08-01</td>\n",
       "      <td>Tampines Street 62</td>\n",
       "      <td>659</td>\n",
       "      <td>1349</td>\n",
       "      <td>3</td>\n",
       "    </tr>\n",
       "    <tr>\n",
       "      <th>8</th>\n",
       "      <td>2021-06-01</td>\n",
       "      <td>Tengah Garden Walk</td>\n",
       "      <td>603</td>\n",
       "      <td>1273</td>\n",
       "      <td>3</td>\n",
       "    </tr>\n",
       "    <tr>\n",
       "      <th>9</th>\n",
       "      <td>2021-06-01</td>\n",
       "      <td>Ang Mo Kio Avenue 1</td>\n",
       "      <td>1118</td>\n",
       "      <td>1966</td>\n",
       "      <td>3</td>\n",
       "    </tr>\n",
       "    <tr>\n",
       "      <th>10</th>\n",
       "      <td>2021-05-01</td>\n",
       "      <td>Northumberland Road Condo</td>\n",
       "      <td>1129</td>\n",
       "      <td>1981</td>\n",
       "      <td>3</td>\n",
       "    </tr>\n",
       "    <tr>\n",
       "      <th>11</th>\n",
       "      <td>2021-07-01</td>\n",
       "      <td>6A/B/C Robin Drive</td>\n",
       "      <td>1454</td>\n",
       "      <td>2418</td>\n",
       "      <td>3</td>\n",
       "    </tr>\n",
       "    <tr>\n",
       "      <th>12</th>\n",
       "      <td>2021-03-01</td>\n",
       "      <td>2, 4, 6 Mount Emily Road</td>\n",
       "      <td>1115</td>\n",
       "      <td>1962</td>\n",
       "      <td>3</td>\n",
       "    </tr>\n",
       "    <tr>\n",
       "      <th>13</th>\n",
       "      <td>2021-03-01</td>\n",
       "      <td>Surrey Point</td>\n",
       "      <td>1332</td>\n",
       "      <td>2254</td>\n",
       "      <td>3</td>\n",
       "    </tr>\n",
       "  </tbody>\n",
       "</table>\n",
       "</div>"
      ],
      "text/plain": [
       "   land_txn_date                  proj_name  land_txn_price  predict_price  \\\n",
       "0     2022-01-01            Gloria Mansions            1098           1939   \n",
       "1     2021-12-01          Former High Point            2626           3995   \n",
       "2     2021-12-01            Former La Ville            1540           2534   \n",
       "3     2021-10-01  Watten Estate Condominium            1723           2780   \n",
       "4     2021-10-01         Slim Barracks Rise            1210           2090   \n",
       "5     2021-10-01         Slim Barracks Rise            1246           2139   \n",
       "6     2021-09-01                 Flynn Park            1318           2235   \n",
       "7     2021-08-01         Tampines Street 62             659           1349   \n",
       "8     2021-06-01         Tengah Garden Walk             603           1273   \n",
       "9     2021-06-01        Ang Mo Kio Avenue 1            1118           1966   \n",
       "10    2021-05-01  Northumberland Road Condo            1129           1981   \n",
       "11    2021-07-01         6A/B/C Robin Drive            1454           2418   \n",
       "12    2021-03-01   2, 4, 6 Mount Emily Road            1115           1962   \n",
       "13    2021-03-01               Surrey Point            1332           2254   \n",
       "\n",
       "    index  \n",
       "0       3  \n",
       "1       3  \n",
       "2       3  \n",
       "3       3  \n",
       "4       3  \n",
       "5       3  \n",
       "6       3  \n",
       "7       3  \n",
       "8       3  \n",
       "9       3  \n",
       "10      3  \n",
       "11      3  \n",
       "12      3  \n",
       "13      3  "
      ]
     },
     "execution_count": 81,
     "metadata": {},
     "output_type": "execute_result"
    }
   ],
   "source": [
    "df_temp"
   ]
  },
  {
   "cell_type": "code",
   "execution_count": 93,
   "id": "ede44da7",
   "metadata": {},
   "outputs": [],
   "source": [
    "df_temp = pd.read_csv('new_proj_land_txn_data.csv')\n",
    "df_temp[\"index\"] = 0\n",
    "count = df_temp.shape[0]\n",
    "for i in range(count):\n",
    "    df_temp.iloc[i, 4] = count - i\n",
    "\n",
    "df_temp.to_csv('new_proj_land_txn_data.csv', index=False)"
   ]
  },
  {
   "cell_type": "markdown",
   "id": "a619503a",
   "metadata": {},
   "source": [
    "# 3. Update newly launched project data to Redis"
   ]
  },
  {
   "cell_type": "code",
   "execution_count": 53,
   "id": "6890577f",
   "metadata": {},
   "outputs": [],
   "source": [
    "import redis\n",
    "import csv\n",
    "import json"
   ]
  },
  {
   "cell_type": "code",
   "execution_count": 56,
   "id": "bc01714f",
   "metadata": {},
   "outputs": [],
   "source": [
    "# set redis connection parameter\n",
    "\n",
    "r = redis.Redis(host = \"20.124.252.164\", port = 7000, password = \"team_seven\", decode_responses = True)"
   ]
  },
  {
   "cell_type": "code",
   "execution_count": 49,
   "id": "fdffbba9",
   "metadata": {},
   "outputs": [],
   "source": [
    "import csv\n",
    "import json\n",
    "\n",
    "# reverse index\n"
   ]
  },
  {
   "cell_type": "code",
   "execution_count": 94,
   "id": "c5a16a3c",
   "metadata": {},
   "outputs": [
    {
     "name": "stdout",
     "output_type": "stream",
     "text": [
      "{\"land_txn_date\": \"2022-01-01\", \"proj_name\": \"Gloria Mansions\", \"land_txn_price\": \"1098\", \"predict_price\": \"1939\", \"index\": \"14\"}\n",
      "{\"land_txn_date\": \"2021-12-01\", \"proj_name\": \"Former High Point\", \"land_txn_price\": \"2626\", \"predict_price\": \"3995\", \"index\": \"13\"}\n",
      "{\"land_txn_date\": \"2021-12-01\", \"proj_name\": \"Former La Ville\", \"land_txn_price\": \"1540\", \"predict_price\": \"2534\", \"index\": \"12\"}\n",
      "{\"land_txn_date\": \"2021-10-01\", \"proj_name\": \"Watten Estate Condominium\", \"land_txn_price\": \"1723\", \"predict_price\": \"2780\", \"index\": \"11\"}\n",
      "{\"land_txn_date\": \"2021-10-01\", \"proj_name\": \"Slim Barracks Rise\", \"land_txn_price\": \"1210\", \"predict_price\": \"2090\", \"index\": \"10\"}\n",
      "{\"land_txn_date\": \"2021-10-01\", \"proj_name\": \"Slim Barracks Rise\", \"land_txn_price\": \"1246\", \"predict_price\": \"2139\", \"index\": \"9\"}\n",
      "{\"land_txn_date\": \"2021-09-01\", \"proj_name\": \"Flynn Park\", \"land_txn_price\": \"1318\", \"predict_price\": \"2235\", \"index\": \"8\"}\n",
      "{\"land_txn_date\": \"2021-08-01\", \"proj_name\": \"Tampines Street 62\", \"land_txn_price\": \"659\", \"predict_price\": \"1349\", \"index\": \"7\"}\n",
      "{\"land_txn_date\": \"2021-06-01\", \"proj_name\": \"Tengah Garden Walk\", \"land_txn_price\": \"603\", \"predict_price\": \"1273\", \"index\": \"6\"}\n",
      "{\"land_txn_date\": \"2021-06-01\", \"proj_name\": \"Ang Mo Kio Avenue 1\", \"land_txn_price\": \"1118\", \"predict_price\": \"1966\", \"index\": \"5\"}\n",
      "{\"land_txn_date\": \"2021-05-01\", \"proj_name\": \"Northumberland Road Condo\", \"land_txn_price\": \"1129\", \"predict_price\": \"1981\", \"index\": \"4\"}\n",
      "{\"land_txn_date\": \"2021-07-01\", \"proj_name\": \"6A/B/C Robin Drive\", \"land_txn_price\": \"1454\", \"predict_price\": \"2418\", \"index\": \"3\"}\n",
      "{\"land_txn_date\": \"2021-03-01\", \"proj_name\": \"2, 4, 6 Mount Emily Road\", \"land_txn_price\": \"1115\", \"predict_price\": \"1962\", \"index\": \"2\"}\n",
      "{\"land_txn_date\": \"2021-03-01\", \"proj_name\": \"Surrey Point\", \"land_txn_price\": \"1332\", \"predict_price\": \"2254\", \"index\": \"1\"}\n"
     ]
    }
   ],
   "source": [
    "with open(\"new_proj_land_txn_data.csv\", encoding=\"gbk\") as f:\n",
    "    reader = csv.DictReader(f)\n",
    "    for row in reader:\n",
    "        a = json.dumps(row)\n",
    "        print(a)"
   ]
  },
  {
   "cell_type": "code",
   "execution_count": 95,
   "id": "a24575cb",
   "metadata": {},
   "outputs": [],
   "source": [
    "with open(\"new_proj_land_txn_data.csv\", encoding=\"gbk\") as f:\n",
    "    reader = csv.DictReader(f)\n",
    "    for row in reader:\n",
    "        index = row[\"index\"]\n",
    "        landTxnDate = row[\"land_txn_date\"]\n",
    "        projectName = row[\"proj_name\"]\n",
    "        landTxnPrice = row[\"land_txn_price\"]\n",
    "        predictPrice = row[\"predict_price\"]\n",
    "\n",
    "        r.hset(\"NewProject\", index, json.dumps({\n",
    "            \"id\": index,\n",
    "            \"landTxnDate\": landTxnDate,\n",
    "            \"projectName\": projectName,\n",
    "            \"landTxnPrice\": landTxnPrice,\n",
    "            \"predictPrice\": predictPrice\n",
    "        }))"
   ]
  },
  {
   "cell_type": "code",
   "execution_count": null,
   "id": "8ec7a8d1",
   "metadata": {},
   "outputs": [],
   "source": []
  },
  {
   "cell_type": "code",
   "execution_count": null,
   "id": "def8bded",
   "metadata": {},
   "outputs": [],
   "source": []
  },
  {
   "cell_type": "code",
   "execution_count": null,
   "id": "1d186f6d",
   "metadata": {},
   "outputs": [],
   "source": []
  }
 ],
 "metadata": {
  "kernelspec": {
   "display_name": "Python 3",
   "language": "python",
   "name": "python3"
  },
  "language_info": {
   "codemirror_mode": {
    "name": "ipython",
    "version": 3
   },
   "file_extension": ".py",
   "mimetype": "text/x-python",
   "name": "python",
   "nbconvert_exporter": "python",
   "pygments_lexer": "ipython3",
   "version": "3.8.8"
  }
 },
 "nbformat": 4,
 "nbformat_minor": 5
}
